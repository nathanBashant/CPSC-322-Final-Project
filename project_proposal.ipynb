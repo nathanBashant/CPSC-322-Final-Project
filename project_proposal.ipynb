{
 "cells": [
  {
   "cell_type": "markdown",
   "metadata": {},
   "source": [
    "## 1. Nathan Bashant and Reid Plowman"
   ]
  },
  {
   "cell_type": "markdown",
   "metadata": {},
   "source": [
    "## 2. Dataset description\n",
    "\n",
    "* 1.   The source of our \"Students Performance in Exams\" dataset is kaggle.com, specifically from the computer science tab. It's format is csv, and it contains the gender of the student, race/ethnicity of the student, the parental level of education, what lunch plan the student has, if the student has taken a test preparation course, and the test scores.\n",
    "* 2.   The attributes we will try and predict is any of the three category test scores. More specifically, given the math and reading score, as well as the other student data, predict the writing score. Now, given the reading and writing score, as well as the other student data, predict the math score etc."
   ]
  },
  {
   "cell_type": "markdown",
   "metadata": {},
   "source": [
    "## 3. Implementation/technical merit\n",
    "\n",
    "* 1.   One anticipated challenge in pre-processing would be the slashes in the school lunch category. An additional anticipated classification challenge is the amount of string processing to be done and used in order to more accurately predict test scores.\n",
    "* 2.   We plan on exploring correlation statistics and the selection method in order to pare down the attributes.\n"
   ]
  },
  {
   "cell_type": "markdown",
   "metadata": {},
   "source": [
    "## 4. Potential impact of the results\n",
    "\n",
    "* 1.   The results are useful in the student and universities favor. The student is able to see what their categorical test score might be given some information about themselves and other test scores. The universities are able to use this information to predict how a student might score in a particular subject given their statistics on other subjects.\n",
    "* 2.   The stakeholders that might be interested in our results are students and college administration members. "
   ]
  }
 ],
 "metadata": {
  "kernelspec": {
   "display_name": "Python 3.9.12 ('base')",
   "language": "python",
   "name": "python3"
  },
  "language_info": {
   "name": "python",
   "version": "3.9.12 (main, Apr  5 2022, 06:56:58) \n[GCC 7.5.0]"
  },
  "orig_nbformat": 4,
  "vscode": {
   "interpreter": {
    "hash": "d4d1e4263499bec80672ea0156c357c1ee493ec2b1c70f0acce89fc37c4a6abe"
   }
  }
 },
 "nbformat": 4,
 "nbformat_minor": 2
}
